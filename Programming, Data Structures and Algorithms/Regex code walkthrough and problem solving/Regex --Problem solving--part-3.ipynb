{
 "cells": [
  {
   "cell_type": "markdown",
   "id": "c15c0f14",
   "metadata": {},
   "source": [
    "# Problem 3 : Check if valid integer or float"
   ]
  },
  {
   "cell_type": "code",
   "execution_count": 10,
   "id": "9496c8c8",
   "metadata": {},
   "outputs": [],
   "source": [
    "\n",
    "def valid_number(str):\n",
    "    i=0\n",
    "    j=len(str)-1\n",
    "    \n",
    "    while i<len(str) and str[i]==' ': # remove  whitespaces int he beginning\n",
    "        i+=1\n",
    "    while j>0 and str[j]==' ':        # remove whitespaces at the end\n",
    "        j-=1\n",
    "    if i>j:                           # if only whitespaces in the given string\n",
    "        return False\n",
    "    #str[i...j] is a whitespace removed (from beginning and end) string \n",
    "    # if string is of length 1 and the only \n",
    "    # character is not a digit\n",
    "    \n",
    "    if (i==j and not (str[i]>='0' and str[i]<='9')):\n",
    "        return False\n",
    "    # If the 1st char is not '+', '-', '.' or digit\n",
    "    if (str[i]!='.' and str[i]!='+' and str[i]!='-' and not(str[i]>='0'and str[i]<='9')):\n",
    "        return False\n",
    "    flag=False\n",
    "    for i in range(j+1):\n",
    "        if(str[i]!='e'and str[i]!='.'and str[i]!='+'and str[i]!='-'and not(str[i]>='0'and str[i]<='9')):\n",
    "            return False # \"a123\" good to write cases eliminated\n",
    "        if str[i]=='.':\n",
    "            if flag:\n",
    "                return False #\"1e2.3\", \"1.2.3\"\n",
    "            if i+1>len(str):\n",
    "                return False # \"123.\"\n",
    "            if(not(str[i+1]>='0'and str[i+1]<='9')):\n",
    "                return False # \"123.a\"\n",
    "            flag=True\n",
    "        elif str[i]=='e':\n",
    "            flag=True\n",
    "            if(not(str[i-1]>='0'and str[i-1]<='9')):\n",
    "                return False# \"e123\"\n",
    "            # if e is the last character\n",
    "            if i+1>len(str):\n",
    "                return False# \"123e\"\n",
    "            # if e is not followed by \n",
    "            # '+', '-' or a digit \n",
    "            if(str[i+1]!='+'and str[i+1]!='-'and (str[i+1]>='0'and str[i]<='9')):\n",
    "                return False # \"1e.\" \"1ea\"\n",
    "    return True\n",
    "        \n",
    "        \n",
    "        "
   ]
  },
  {
   "cell_type": "code",
   "execution_count": 11,
   "id": "7aecb5a5",
   "metadata": {},
   "outputs": [
    {
     "name": "stdout",
     "output_type": "stream",
     "text": [
      "True\n"
     ]
    }
   ],
   "source": [
    "print(valid_number(\"1e5\"))"
   ]
  },
  {
   "cell_type": "code",
   "execution_count": 12,
   "id": "d9823c73",
   "metadata": {},
   "outputs": [
    {
     "name": "stdout",
     "output_type": "stream",
     "text": [
      "False\n"
     ]
    }
   ],
   "source": [
    "print(valid_number(\"1e1.5\"))"
   ]
  },
  {
   "cell_type": "code",
   "execution_count": 13,
   "id": "0abdc8be",
   "metadata": {},
   "outputs": [
    {
     "name": "stdout",
     "output_type": "stream",
     "text": [
      "True\n"
     ]
    }
   ],
   "source": [
    "print(valid_number(\"1e+15\"))"
   ]
  },
  {
   "cell_type": "code",
   "execution_count": 14,
   "id": "66e131da",
   "metadata": {},
   "outputs": [
    {
     "name": "stdout",
     "output_type": "stream",
     "text": [
      "True\n"
     ]
    }
   ],
   "source": [
    "print(valid_number(\"-1.2e-15\"))"
   ]
  },
  {
   "cell_type": "markdown",
   "id": "307386f6",
   "metadata": {},
   "source": [
    "# Problem 4: Regex matching problem"
   ]
  },
  {
   "cell_type": "markdown",
   "id": "08ab2e36",
   "metadata": {},
   "source": [
    "\"?\" matches a single character\n",
    "\"*\" matches zero or more charcters\n",
    "Given a pattern(p) and a string(s), does p match s?\n",
    "examples:\n",
    "TRUE: (\"*\", \"ab\"), (\"?a\" ,\"ba\"), (\"?a\" ,\"aa\"), (\"a*\" ,\"a\")\n",
    "FALSE: (\"*a\", \"ab\"), (\"?a\" ,\"baa\"), (\"?a\" ,\"a\"), (\"a*\" ,\"ba\") "
   ]
  },
  {
   "cell_type": "code",
   "execution_count": 20,
   "id": "587c027d",
   "metadata": {},
   "outputs": [],
   "source": [
    "def isMatch(p,s):\n",
    "    print(p,s)\n",
    "    #Boundary cases\n",
    "    if p==s:\n",
    "        return True\n",
    "    if p==\"*\":\n",
    "        return True\n",
    "    if p=='' or s=='':\n",
    "        return False\n",
    "    #Recursion case-1\n",
    "    if p[0]==s[0] or p[0]=='?':\n",
    "        return isMatch(p[1:],s[1:])\n",
    "    #Recursion case-2\n",
    "    if p[0]=='*':\n",
    "        return (isMatch(p[1:],s) or isMatch(p,s[1:]))\n",
    "    #Last case\n",
    "    if p[0]!=s[0]:\n",
    "        return False\n"
   ]
  },
  {
   "cell_type": "code",
   "execution_count": 21,
   "id": "d62c9908",
   "metadata": {},
   "outputs": [
    {
     "name": "stdout",
     "output_type": "stream",
     "text": [
      "* ab\n",
      "True\n"
     ]
    }
   ],
   "source": [
    "print(isMatch(\"*\",\"ab\"))"
   ]
  },
  {
   "cell_type": "code",
   "execution_count": 22,
   "id": "7d05803a",
   "metadata": {},
   "outputs": [
    {
     "name": "stdout",
     "output_type": "stream",
     "text": [
      "?a baa\n",
      "a aa\n",
      " a\n",
      "False\n"
     ]
    }
   ],
   "source": [
    "print(isMatch(\"?a\",\"baa\"))"
   ]
  },
  {
   "cell_type": "code",
   "execution_count": 23,
   "id": "36bb41b6",
   "metadata": {},
   "outputs": [
    {
     "name": "stdout",
     "output_type": "stream",
     "text": [
      "a* ba\n",
      "False\n"
     ]
    }
   ],
   "source": [
    "print(isMatch(\"a*\",\"ba\"))"
   ]
  },
  {
   "cell_type": "code",
   "execution_count": 24,
   "id": "42cfd1fd",
   "metadata": {},
   "outputs": [
    {
     "data": {
      "text/html": [
       "<img src=\"https://i.imgur.com/dse47H3.png\"/>"
      ],
      "text/plain": [
       "<IPython.core.display.Image object>"
      ]
     },
     "execution_count": 24,
     "metadata": {},
     "output_type": "execute_result"
    }
   ],
   "source": [
    "from IPython.display import Image\n",
    "Image(url=\"https://i.imgur.com/dse47H3.png\")"
   ]
  },
  {
   "cell_type": "code",
   "execution_count": 25,
   "id": "3569c852",
   "metadata": {},
   "outputs": [
    {
     "data": {
      "text/html": [
       "<img src=\"https://i.imgur.com/Rx6tN8a.png\"/>"
      ],
      "text/plain": [
       "<IPython.core.display.Image object>"
      ]
     },
     "execution_count": 25,
     "metadata": {},
     "output_type": "execute_result"
    }
   ],
   "source": [
    "# Can we do better?\n",
    "Image(url=\"https://i.imgur.com/Rx6tN8a.png\")"
   ]
  },
  {
   "cell_type": "code",
   "execution_count": null,
   "id": "2e2d1d70",
   "metadata": {},
   "outputs": [],
   "source": []
  }
 ],
 "metadata": {
  "kernelspec": {
   "display_name": "Python 3 (ipykernel)",
   "language": "python",
   "name": "python3"
  },
  "language_info": {
   "codemirror_mode": {
    "name": "ipython",
    "version": 3
   },
   "file_extension": ".py",
   "mimetype": "text/x-python",
   "name": "python",
   "nbconvert_exporter": "python",
   "pygments_lexer": "ipython3",
   "version": "3.9.7"
  }
 },
 "nbformat": 4,
 "nbformat_minor": 5
}
