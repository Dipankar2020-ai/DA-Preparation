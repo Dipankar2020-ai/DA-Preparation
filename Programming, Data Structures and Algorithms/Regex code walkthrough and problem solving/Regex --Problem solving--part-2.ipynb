{
 "cells": [
  {
   "cell_type": "code",
   "execution_count": 3,
   "id": "205e08ab",
   "metadata": {},
   "outputs": [],
   "source": [
    "import PyPDF4"
   ]
  },
  {
   "cell_type": "code",
   "execution_count": 5,
   "id": "ece146de",
   "metadata": {},
   "outputs": [
    {
     "name": "stdout",
     "output_type": "stream",
     "text": [
      "Invoice\n",
      "Payment is due within 30 days from date of invoice. Late payment is subject to fees of 5% per month.\n",
      "Thanks for choosing \n",
      "DEMO - Sliced Invoices\n",
      " | \n",
      "admin@slicedinvoices.com\n",
      "Page 1/1\n",
      "From:\n",
      "DEMO - Sliced Invoices\n",
      "Suite 5A-1204\n",
      "123 Somewhere Street\n",
      "Your City AZ 12345\n",
      "admin@slicedinvoices.com\n",
      "Invoice Number\n",
      "INV-3337\n",
      "Order Number\n",
      "12345\n",
      "Invoice Date\n",
      "January 25, 2016\n",
      "Due Date\n",
      "January 31, 2016\n",
      "Total Due\n",
      "$93.50\n",
      "To:\n",
      "Test Business\n",
      "123 Somewhere St\n",
      "Melbourne, VIC 3000\n",
      "test@test.com\n",
      "Hrs/Qty\n",
      "Service\n",
      "Rate/Price\n",
      "Adjust\n",
      "Sub Total\n",
      "1.00\n",
      "Web Design\n",
      "This is a sample description...\n",
      "$85.00\n",
      "0.00%\n",
      "$85.00\n",
      "Sub Total\n",
      "$85.00\n",
      "Tax\n",
      "$8.50\n",
      "Total\n",
      "$93.50\n",
      "ANZ Bank\n",
      "ACC # 1234 1234\n",
      "BSB # 4321 432\n",
      "Paid\n",
      "\n"
     ]
    }
   ],
   "source": [
    "FILE_PATH='./invoice.pdf'\n",
    "with open(FILE_PATH,mode='rb') as f:\n",
    "    reader=PyPDF4.PdfFileReader(f)\n",
    "    page=reader.getPage(0)\n",
    "    txt=page.extractText()\n",
    "    print(txt)\n",
    "    "
   ]
  },
  {
   "cell_type": "code",
   "execution_count": 8,
   "id": "9ed75c2e",
   "metadata": {},
   "outputs": [
    {
     "name": "stdout",
     "output_type": "stream",
     "text": [
      "['$93.50', '$85.00', '$85.00', '$85.00', '$8.50', '$93.50']\n"
     ]
    }
   ],
   "source": [
    "import re\n",
    "m=re.findall(\"\\$[0-9]*\\.[0-9]*\",txt)\n",
    "print(m)"
   ]
  },
  {
   "cell_type": "markdown",
   "id": "90c1f7a8",
   "metadata": {},
   "source": [
    "# Extract Total Due"
   ]
  },
  {
   "cell_type": "code",
   "execution_count": 9,
   "id": "7169fd85",
   "metadata": {},
   "outputs": [
    {
     "name": "stdout",
     "output_type": "stream",
     "text": [
      "['Total Due\\n$93.50']\n"
     ]
    }
   ],
   "source": [
    "import re\n",
    "m=re.findall(\"Total Due\\n\\$[0-9]*\\.[0-9]*\",txt)\n",
    "print(m)"
   ]
  },
  {
   "cell_type": "code",
   "execution_count": 10,
   "id": "513fd6e3",
   "metadata": {},
   "outputs": [
    {
     "name": "stdout",
     "output_type": "stream",
     "text": [
      "['$93.50']\n"
     ]
    }
   ],
   "source": [
    "res=re.findall(\"\\$[0-9]*\\.[0-9]*\",m[0])\n",
    "print(res)"
   ]
  },
  {
   "cell_type": "markdown",
   "id": "82a32fa2",
   "metadata": {},
   "source": [
    "# Extract dates in this doc given a fixed formatting line number"
   ]
  },
  {
   "cell_type": "code",
   "execution_count": 11,
   "id": "d82d9025",
   "metadata": {},
   "outputs": [
    {
     "name": "stdout",
     "output_type": "stream",
     "text": [
      "['Invoice', 'Payment is due within 30 days from date of invoice. Late payment is subject to fees of 5% per month.', 'Thanks for choosing ', 'DEMO - Sliced Invoices', ' | ', 'admin@slicedinvoices.com', 'Page 1/1', 'From:', 'DEMO - Sliced Invoices', 'Suite 5A-1204', '123 Somewhere Street', 'Your City AZ 12345', 'admin@slicedinvoices.com', 'Invoice Number', 'INV-3337', 'Order Number', '12345', 'Invoice Date', 'January 25, 2016', 'Due Date', 'January 31, 2016', 'Total Due', '$93.50', 'To:', 'Test Business', '123 Somewhere St', 'Melbourne, VIC 3000', 'test@test.com', 'Hrs/Qty', 'Service', 'Rate/Price', 'Adjust', 'Sub Total', '1.00', 'Web Design', 'This is a sample description...', '$85.00', '0.00%', '$85.00', 'Sub Total', '$85.00', 'Tax', '$8.50', 'Total', '$93.50', 'ANZ Bank', 'ACC # 1234 1234', 'BSB # 4321 432', 'Paid', '']\n",
      "\n",
      "\n",
      " Invoice date:January 25, 2016\n"
     ]
    }
   ],
   "source": [
    "res=re.split('\\n',txt)\n",
    "print(res)\n",
    "print(\"\\n\\n Invoice date:\"+res[18])"
   ]
  },
  {
   "cell_type": "markdown",
   "id": "d2902141",
   "metadata": {},
   "source": [
    "# Extract email address from the pdf"
   ]
  },
  {
   "cell_type": "code",
   "execution_count": 16,
   "id": "7b7c0343",
   "metadata": {},
   "outputs": [
    {
     "name": "stdout",
     "output_type": "stream",
     "text": [
      "['admin@slicedinvoices.com', 'admin@slicedinvoices.com', 'test@test.com']\n"
     ]
    }
   ],
   "source": [
    "res=re.findall(\"[a-z]*\\@[a-z]*\\.[a-z]*\",txt)\n",
    "print(res)"
   ]
  }
 ],
 "metadata": {
  "kernelspec": {
   "display_name": "Python 3 (ipykernel)",
   "language": "python",
   "name": "python3"
  },
  "language_info": {
   "codemirror_mode": {
    "name": "ipython",
    "version": 3
   },
   "file_extension": ".py",
   "mimetype": "text/x-python",
   "name": "python",
   "nbconvert_exporter": "python",
   "pygments_lexer": "ipython3",
   "version": "3.9.7"
  }
 },
 "nbformat": 4,
 "nbformat_minor": 5
}
