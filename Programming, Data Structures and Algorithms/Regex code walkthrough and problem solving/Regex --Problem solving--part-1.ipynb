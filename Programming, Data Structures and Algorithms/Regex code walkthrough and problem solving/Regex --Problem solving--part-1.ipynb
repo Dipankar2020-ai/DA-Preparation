{
 "cells": [
  {
   "cell_type": "markdown",
   "id": "53e80ab0",
   "metadata": {},
   "source": [
    "# Problem-1 :Masking Email"
   ]
  },
  {
   "cell_type": "code",
   "execution_count": 1,
   "id": "6cc4c2a3",
   "metadata": {},
   "outputs": [],
   "source": [
    "# Email- xxxxxx@aaaa.zz\n",
    "# Masked- x#####x@aaaa.zz"
   ]
  },
  {
   "cell_type": "code",
   "execution_count": 3,
   "id": "63d5b328",
   "metadata": {},
   "outputs": [
    {
     "name": "stdout",
     "output_type": "stream",
     "text": [
      "abcd@efgh\n",
      "a####d@efgh\n"
     ]
    }
   ],
   "source": [
    "\n",
    "def maskEmail(s):\n",
    "    if '@'in s:\n",
    "        name,domain=s.split('@')\n",
    "        return (\"{0}####{1}@{2}\".format(name[0],name[-1],domain))\n",
    "s=input()\n",
    "print(maskEmail(s))"
   ]
  },
  {
   "cell_type": "markdown",
   "id": "3b09d805",
   "metadata": {},
   "source": [
    "# Boundary CASE :a@bcdef.com"
   ]
  },
  {
   "cell_type": "code",
   "execution_count": 5,
   "id": "7abf1d98",
   "metadata": {},
   "outputs": [
    {
     "name": "stdout",
     "output_type": "stream",
     "text": [
      "a@bcdef.com\n",
      "a####a@bcdef.com\n"
     ]
    }
   ],
   "source": [
    "s=input()\n",
    "print(maskEmail(s))"
   ]
  },
  {
   "cell_type": "markdown",
   "id": "b26440c4",
   "metadata": {},
   "source": [
    "# Boundary CASE: abcd.com"
   ]
  },
  {
   "cell_type": "code",
   "execution_count": 8,
   "id": "afbd5335",
   "metadata": {},
   "outputs": [
    {
     "name": "stdout",
     "output_type": "stream",
     "text": [
      "abcd.com\n",
      "None\n"
     ]
    }
   ],
   "source": [
    "s=input()\n",
    "print(maskEmail(s))"
   ]
  },
  {
   "cell_type": "markdown",
   "id": "4e047839",
   "metadata": {},
   "source": [
    "# Boundary CASE: abcd@cdef"
   ]
  },
  {
   "cell_type": "code",
   "execution_count": 9,
   "id": "6a18dabd",
   "metadata": {},
   "outputs": [
    {
     "name": "stdout",
     "output_type": "stream",
     "text": [
      "abcd@cdef\n",
      "a####d@cdef\n"
     ]
    }
   ],
   "source": [
    "s=input()\n",
    "print(maskEmail(s))"
   ]
  },
  {
   "cell_type": "markdown",
   "id": "8e0f0be5",
   "metadata": {},
   "source": [
    "# Problem-2 : valid Email or not "
   ]
  },
  {
   "cell_type": "code",
   "execution_count": 19,
   "id": "7524e3c6",
   "metadata": {},
   "outputs": [
    {
     "name": "stdout",
     "output_type": "stream",
     "text": [
      "Enter gmail id : dipankarcse1@gmail.com\n",
      "dipankarcse1@gmail.com is valid\n"
     ]
    }
   ],
   "source": [
    "#savita.gohar_123@gmail.com\n",
    "import re\n",
    "pattern=\"^[a-z 0-9][\\._]?[a-z 0-9]+[@]\\w+[.]\\w{2,3}$\"\n",
    "email_id=input(\"Enter gmail id : \")\n",
    "if re.search(pattern,email_id):\n",
    "    print(f\"{email_id} is valid\")\n",
    "else:\n",
    "    print(f\"{email_id} is not valid\")\n",
    "    "
   ]
  },
  {
   "cell_type": "code",
   "execution_count": 20,
   "id": "2fd2965c",
   "metadata": {},
   "outputs": [
    {
     "name": "stdout",
     "output_type": "stream",
     "text": [
      "Enter gmail id : dip@cse2.com\n",
      "dip@cse2.com is valid\n"
     ]
    }
   ],
   "source": [
    "email_id=input(\"Enter gmail id : \")\n",
    "if re.search(pattern,email_id):\n",
    "    print(f\"{email_id} is valid\")\n",
    "else:\n",
    "    print(f\"{email_id} is not valid\")"
   ]
  },
  {
   "cell_type": "markdown",
   "id": "26915f5e",
   "metadata": {},
   "source": [
    "# Mask Phone Numbers"
   ]
  },
  {
   "cell_type": "code",
   "execution_count": 21,
   "id": "d7107718",
   "metadata": {},
   "outputs": [],
   "source": [
    "# ph=\"1(234) 567-890\" -->\"###-###-7890\"\n"
   ]
  },
  {
   "cell_type": "code",
   "execution_count": 23,
   "id": "44c1256b",
   "metadata": {},
   "outputs": [
    {
     "name": "stdout",
     "output_type": "stream",
     "text": [
      "1234567890\n",
      "###-###-7890\n"
     ]
    }
   ],
   "source": [
    "ph=\"1(234) 567-890\"\n",
    "digits=re.sub(\"\\D\",\"\",ph)\n",
    "print(digits)\n",
    "masked=\"###-###-{0}\".format(digits[-4:])\n",
    "print(masked)"
   ]
  },
  {
   "cell_type": "markdown",
   "id": "f9356f87",
   "metadata": {},
   "source": [
    "# Boudary case handle"
   ]
  },
  {
   "cell_type": "code",
   "execution_count": 25,
   "id": "1d482482",
   "metadata": {},
   "outputs": [
    {
     "name": "stdout",
     "output_type": "stream",
     "text": [
      "1(234)567-890\n",
      "###-###-7890\n"
     ]
    }
   ],
   "source": [
    "def maskPhoneNum(ph):\n",
    "    digits=re.sub(\"\\D\",\"\",ph)\n",
    "    if len(digits)!=10:\n",
    "        return None\n",
    "    else:\n",
    "        masked=\"###-###-{0}\".format(digits[-4:])\n",
    "        return masked\n",
    "print(maskPhoneNum(input()))"
   ]
  },
  {
   "cell_type": "markdown",
   "id": "10cc15b0",
   "metadata": {},
   "source": [
    "# Exercise: 12 digit phone number with 2 digits of ISD code starting with +"
   ]
  },
  {
   "cell_type": "code",
   "execution_count": 30,
   "id": "f5b1cba0",
   "metadata": {},
   "outputs": [
    {
     "name": "stdout",
     "output_type": "stream",
     "text": [
      "+86-(99) 12345678\n",
      "+(86)-###-###-5678\n"
     ]
    }
   ],
   "source": [
    "# +86-(99) 12345678--->(+86)-###-###-5678\n",
    "def IsdMaskedPhn(s):\n",
    "    first=s[1:3]\n",
    "    second=s[4:]\n",
    "    digits=re.sub(\"\\D\",\"\",second)\n",
    "    if len(digits)!=10:\n",
    "        return None\n",
    "    else:\n",
    "        masked=\"+({0})-###-###-{1}\".format(first,digits[-4:])\n",
    "    return masked\n",
    "print(IsdMaskedPhn(input()))"
   ]
  }
 ],
 "metadata": {
  "kernelspec": {
   "display_name": "Python 3 (ipykernel)",
   "language": "python",
   "name": "python3"
  },
  "language_info": {
   "codemirror_mode": {
    "name": "ipython",
    "version": 3
   },
   "file_extension": ".py",
   "mimetype": "text/x-python",
   "name": "python",
   "nbconvert_exporter": "python",
   "pygments_lexer": "ipython3",
   "version": "3.9.7"
  }
 },
 "nbformat": 4,
 "nbformat_minor": 5
}
