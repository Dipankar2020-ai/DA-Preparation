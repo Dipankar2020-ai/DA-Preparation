{
 "cells": [
  {
   "cell_type": "markdown",
   "id": "01a4f055",
   "metadata": {},
   "source": [
    "# Long URL to Short URL"
   ]
  },
  {
   "cell_type": "code",
   "execution_count": 1,
   "id": "58db74ee",
   "metadata": {},
   "outputs": [
    {
     "name": "stdout",
     "output_type": "stream",
     "text": [
      "8\n",
      "qowrtdzq\n",
      "{'qowrtdzq': 'https://www.appliedroots.com/'}\n",
      "https://www.shortURL.com/qowrtdzq\n"
     ]
    }
   ],
   "source": [
    "import random\n",
    "import string\n",
    "d={}\n",
    "def getShortURL(longURL):\n",
    "    l=random.randint(6,10)\n",
    "    print(l)\n",
    "    #generate random characters of string length l\n",
    "    chars=string.ascii_lowercase\n",
    "    shortURL=''.join(random.choice(chars) for i in range(l))\n",
    "    print(shortURL)\n",
    "    #Check if string already present in dict\n",
    "    if shortURL in d:\n",
    "        return getShortURL(longURL)\n",
    "    else:\n",
    "        d[shortURL]=longURL\n",
    "    print(d)\n",
    "    r=\"https://www.shortURL.com/\"+shortURL\n",
    "    return r\n",
    "\n",
    "print(getShortURL(\"https://www.appliedroots.com/\"))"
   ]
  },
  {
   "cell_type": "markdown",
   "id": "76eb3866",
   "metadata": {},
   "source": [
    "# ShortURL to LongURL"
   ]
  },
  {
   "cell_type": "code",
   "execution_count": 2,
   "id": "361e64ee",
   "metadata": {},
   "outputs": [],
   "source": [
    "def getLongURL(shortURL):\n",
    "    k=shortURL[25:]\n",
    "    print(k)\n",
    "    if k in d:\n",
    "        return d[k]\n",
    "    else:\n",
    "        return None"
   ]
  },
  {
   "cell_type": "code",
   "execution_count": 3,
   "id": "9838e10b",
   "metadata": {},
   "outputs": [
    {
     "name": "stdout",
     "output_type": "stream",
     "text": [
      "qowrtdzq\n",
      "https://www.appliedroots.com/\n"
     ]
    }
   ],
   "source": [
    "print(getLongURL(\"https://www.shortURL.com/qowrtdzq\"))"
   ]
  }
 ],
 "metadata": {
  "kernelspec": {
   "display_name": "Python 3 (ipykernel)",
   "language": "python",
   "name": "python3"
  },
  "language_info": {
   "codemirror_mode": {
    "name": "ipython",
    "version": 3
   },
   "file_extension": ".py",
   "mimetype": "text/x-python",
   "name": "python",
   "nbconvert_exporter": "python",
   "pygments_lexer": "ipython3",
   "version": "3.9.7"
  }
 },
 "nbformat": 4,
 "nbformat_minor": 5
}
