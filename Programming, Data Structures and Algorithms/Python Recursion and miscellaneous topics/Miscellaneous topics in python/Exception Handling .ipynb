{
 "cells": [
  {
   "cell_type": "markdown",
   "id": "7c2c5230",
   "metadata": {},
   "source": [
    "# Built in Exeception"
   ]
  },
  {
   "cell_type": "code",
   "execution_count": 2,
   "id": "942e4f83",
   "metadata": {},
   "outputs": [
    {
     "name": "stdout",
     "output_type": "stream",
     "text": [
      "The entry is  b\n",
      "Oops! <class 'ValueError'> occured\n",
      "Next entry\n",
      "***********\n",
      "The entry is  0\n",
      "Oops! <class 'ZeroDivisionError'> occured\n",
      "Next entry\n",
      "***********\n",
      "The entry is  2\n",
      "The reciprocal of  2 is 0.5\n"
     ]
    }
   ],
   "source": [
    "import sys\n",
    "lst=['b',0,2]\n",
    "for entry in lst:\n",
    "    try:\n",
    "        print(\"The entry is \",entry)\n",
    "        r=1/int(entry)\n",
    "    except:\n",
    "        print(\"Oops!\",sys.exc_info()[0],\"occured\")\n",
    "        print(\"Next entry\")\n",
    "        print(\"***********\")\n",
    "        \n",
    "print(\"The reciprocal of \",entry,\"is\",r)\n",
    "        "
   ]
  },
  {
   "cell_type": "markdown",
   "id": "ef7a954c",
   "metadata": {},
   "source": [
    "# Modification"
   ]
  },
  {
   "cell_type": "code",
   "execution_count": 3,
   "id": "1686b11c",
   "metadata": {},
   "outputs": [
    {
     "name": "stdout",
     "output_type": "stream",
     "text": [
      "***********\n",
      "The entry is  b\n",
      "This is value error\n",
      "***********\n",
      "The entry is  0\n",
      "This is zero Error\n",
      "***********\n",
      "The entry is  2\n",
      "The reciprocal of  2 is 0.5\n"
     ]
    }
   ],
   "source": [
    "import sys\n",
    "lst=['b',0,2]\n",
    "for entry in lst:\n",
    "    try:\n",
    "        print(\"***********\")\n",
    "        print(\"The entry is \",entry)\n",
    "        r=1/int(entry)\n",
    "    except(ValueError):\n",
    "        print(\"This is value error\")\n",
    "    except(ZeroDivisionError):\n",
    "        print(\"This is zero Error\")\n",
    "    except:\n",
    "        print(\"Some others errors\")\n",
    "print(\"The reciprocal of \",entry,\"is\",r)"
   ]
  },
  {
   "cell_type": "markdown",
   "id": "7c7af5f3",
   "metadata": {},
   "source": [
    "# Raise Exception"
   ]
  },
  {
   "cell_type": "code",
   "execution_count": 6,
   "id": "a5d3890b",
   "metadata": {},
   "outputs": [
    {
     "name": "stdout",
     "output_type": "stream",
     "text": [
      "Enter a positive number-10\n",
      "Error:Enter a positive number\n"
     ]
    }
   ],
   "source": [
    "try:\n",
    "    num=int(input(\"Enter a positive number\"))\n",
    "    if num<=0:\n",
    "        raise ValueError(\"Error:Enter a positive number\")\n",
    "except ValueError as e:\n",
    "    \n",
    "    print(e)"
   ]
  },
  {
   "cell_type": "markdown",
   "id": "a36e4d03",
   "metadata": {},
   "source": [
    "# Try and Finally"
   ]
  },
  {
   "cell_type": "code",
   "execution_count": 8,
   "id": "8f14fb58",
   "metadata": {},
   "outputs": [
    {
     "name": "stdout",
     "output_type": "stream",
     "text": [
      "File is closed\n"
     ]
    },
    {
     "ename": "NameError",
     "evalue": "name 'f' is not defined",
     "output_type": "error",
     "traceback": [
      "\u001b[1;31m---------------------------------------------------------------------------\u001b[0m",
      "\u001b[1;31mFileNotFoundError\u001b[0m                         Traceback (most recent call last)",
      "\u001b[1;32m~\\AppData\\Local\\Temp/ipykernel_10116/779632137.py\u001b[0m in \u001b[0;36m<module>\u001b[1;34m\u001b[0m\n\u001b[0;32m      1\u001b[0m \u001b[1;32mtry\u001b[0m\u001b[1;33m:\u001b[0m\u001b[1;33m\u001b[0m\u001b[1;33m\u001b[0m\u001b[0m\n\u001b[1;32m----> 2\u001b[1;33m     \u001b[0mf\u001b[0m\u001b[1;33m=\u001b[0m\u001b[0mopen\u001b[0m\u001b[1;33m(\u001b[0m\u001b[1;34m'sample.txt'\u001b[0m\u001b[1;33m)\u001b[0m\u001b[1;33m\u001b[0m\u001b[1;33m\u001b[0m\u001b[0m\n\u001b[0m\u001b[0;32m      3\u001b[0m \u001b[1;32mfinally\u001b[0m\u001b[1;33m:\u001b[0m\u001b[1;33m\u001b[0m\u001b[1;33m\u001b[0m\u001b[0m\n",
      "\u001b[1;31mFileNotFoundError\u001b[0m: [Errno 2] No such file or directory: 'sample.txt'",
      "\nDuring handling of the above exception, another exception occurred:\n",
      "\u001b[1;31mNameError\u001b[0m                                 Traceback (most recent call last)",
      "\u001b[1;32m~\\AppData\\Local\\Temp/ipykernel_10116/779632137.py\u001b[0m in \u001b[0;36m<module>\u001b[1;34m\u001b[0m\n\u001b[0;32m      3\u001b[0m \u001b[1;32mfinally\u001b[0m\u001b[1;33m:\u001b[0m\u001b[1;33m\u001b[0m\u001b[1;33m\u001b[0m\u001b[0m\n\u001b[0;32m      4\u001b[0m     \u001b[0mprint\u001b[0m\u001b[1;33m(\u001b[0m\u001b[1;34m\"File is closed\"\u001b[0m\u001b[1;33m)\u001b[0m\u001b[1;33m\u001b[0m\u001b[1;33m\u001b[0m\u001b[0m\n\u001b[1;32m----> 5\u001b[1;33m     \u001b[0mf\u001b[0m\u001b[1;33m.\u001b[0m\u001b[0mclose\u001b[0m\u001b[1;33m(\u001b[0m\u001b[1;33m)\u001b[0m\u001b[1;33m\u001b[0m\u001b[1;33m\u001b[0m\u001b[0m\n\u001b[0m",
      "\u001b[1;31mNameError\u001b[0m: name 'f' is not defined"
     ]
    }
   ],
   "source": [
    "try:\n",
    "    f=open('sample.txt')\n",
    "finally:\n",
    "    print(\"File is closed\")\n",
    "    f.close()"
   ]
  }
 ],
 "metadata": {
  "kernelspec": {
   "display_name": "Python 3 (ipykernel)",
   "language": "python",
   "name": "python3"
  },
  "language_info": {
   "codemirror_mode": {
    "name": "ipython",
    "version": 3
   },
   "file_extension": ".py",
   "mimetype": "text/x-python",
   "name": "python",
   "nbconvert_exporter": "python",
   "pygments_lexer": "ipython3",
   "version": "3.9.7"
  }
 },
 "nbformat": 4,
 "nbformat_minor": 5
}
