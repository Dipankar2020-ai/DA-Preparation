{
 "cells": [
  {
   "cell_type": "markdown",
   "id": "330e41ac",
   "metadata": {},
   "source": [
    "# Brute Force Approach"
   ]
  },
  {
   "cell_type": "code",
   "execution_count": 5,
   "id": "b6823e58",
   "metadata": {},
   "outputs": [
    {
     "name": "stdout",
     "output_type": "stream",
     "text": [
      "9\n",
      "8\n",
      "5\n",
      "7\n",
      "6\n",
      "Number of common elements :  5\n"
     ]
    }
   ],
   "source": [
    "import random\n",
    "l1=list(range(2,10))\n",
    "random.shuffle(l1)\n",
    "l2=list(range(5,12))\n",
    "random.shuffle(l2)\n",
    "count=0\n",
    "for i in l1:\n",
    "    for j in l2:\n",
    "        if i==j:\n",
    "            print(i)\n",
    "            count+=1\n",
    "print(\"Number of common elements : \",count)\n",
    "    "
   ]
  },
  {
   "cell_type": "code",
   "execution_count": 8,
   "id": "2bcc7ffb",
   "metadata": {},
   "outputs": [
    {
     "name": "stdout",
     "output_type": "stream",
     "text": [
      "5\n",
      "6\n",
      "7\n",
      "8\n",
      "9\n",
      "Number of common elements :  5\n"
     ]
    }
   ],
   "source": [
    "d={}\n",
    "import random\n",
    "list1=list(range(2,10))\n",
    "random.shuffle(l1)\n",
    "list2=list(range(5,12))\n",
    "random.shuffle(l2)\n",
    "for i in list1:\n",
    "    if i in d:\n",
    "        d[i]+=1\n",
    "    else:\n",
    "        d[i]=1\n",
    "count=0\n",
    "for i in list2:\n",
    "    if i in d:\n",
    "        print(i)\n",
    "        count+=1\n",
    "print(\"Number of common elements : \",count)"
   ]
  }
 ],
 "metadata": {
  "kernelspec": {
   "display_name": "Python 3 (ipykernel)",
   "language": "python",
   "name": "python3"
  },
  "language_info": {
   "codemirror_mode": {
    "name": "ipython",
    "version": 3
   },
   "file_extension": ".py",
   "mimetype": "text/x-python",
   "name": "python",
   "nbconvert_exporter": "python",
   "pygments_lexer": "ipython3",
   "version": "3.9.7"
  }
 },
 "nbformat": 4,
 "nbformat_minor": 5
}
