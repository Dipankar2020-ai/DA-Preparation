{
 "cells": [
  {
   "cell_type": "markdown",
   "id": "5c4b44a0",
   "metadata": {},
   "source": [
    "# Abstraction and Inheritance"
   ]
  },
  {
   "cell_type": "code",
   "execution_count": 32,
   "id": "08ce0fe9",
   "metadata": {},
   "outputs": [],
   "source": [
    "import string\n",
    "import random\n",
    "class ShortURL:\n",
    "    URLPrefix=\"https://www.shortURL.com/\"\n",
    "    def __init__(self):\n",
    "        self.d=dict()\n",
    "    def getShortURL(self,longURL):\n",
    "        l=random.randint(6,10)\n",
    "        chars=string.ascii_lowercase\n",
    "        ShortURL=''.join(random.choice(chars) for i in range(l))\n",
    "        if ShortURL in self.d:\n",
    "            return getShortURL(longURL)\n",
    "        else:\n",
    "            self.d[ShortURL]=longURL\n",
    "            \n",
    "        r=self.URLPrefix+ShortURL\n",
    "        return r\n",
    "    def getLongURL(self,ShortURL):\n",
    "        k=ShortURL[:]\n",
    "        if k in self.d:\n",
    "            return self.d[k]\n",
    "        else:\n",
    "            return None"
   ]
  },
  {
   "cell_type": "code",
   "execution_count": 33,
   "id": "ff642fcb",
   "metadata": {},
   "outputs": [],
   "source": [
    "class MyURLShortner(ShortURL):\n",
    "\n",
    "    URLPrefix=\"www.myurlshortner.com/\"\n",
    "    def getShortURL(self,longURL):\n",
    "        l=random.randint(6,10)\n",
    "        chars=string.ascii_lowercase+string.digits\n",
    "        ShortURL=''.join(random.choice(chars) for i in range(l))\n",
    "        if ShortURL in self.d:\n",
    "            return getShortURL(longURL)\n",
    "        else:\n",
    "            self.d[ShortURL]=longURL\n",
    "        r=self.URLPrefix+ShortURL\n",
    "        return r\n",
    "        \n",
    "    "
   ]
  },
  {
   "cell_type": "code",
   "execution_count": 34,
   "id": "409fab59",
   "metadata": {},
   "outputs": [],
   "source": [
    "m1=MyURLShortner()"
   ]
  },
  {
   "cell_type": "code",
   "execution_count": null,
   "id": "3ce7d989",
   "metadata": {},
   "outputs": [],
   "source": [
    "print(m1.d)"
   ]
  },
  {
   "cell_type": "code",
   "execution_count": 28,
   "id": "625ddc6c",
   "metadata": {},
   "outputs": [
    {
     "name": "stdout",
     "output_type": "stream",
     "text": [
      "www.myurlshortner.com/cnhfndet\n",
      "www.myurlshortner.com/8bn3fdo8d\n"
     ]
    }
   ],
   "source": [
    "print(m1.getShortURL(\"amazon.com\"))\n",
    "print(m1.getShortURL(\"google.com\"))"
   ]
  },
  {
   "cell_type": "code",
   "execution_count": 29,
   "id": "d48c6c0e",
   "metadata": {},
   "outputs": [
    {
     "name": "stdout",
     "output_type": "stream",
     "text": [
      "{'cnhfndet': 'amazon.com', '8bn3fdo8d': 'google.com'}\n"
     ]
    }
   ],
   "source": [
    "print(m1.d)"
   ]
  },
  {
   "cell_type": "code",
   "execution_count": 31,
   "id": "d4589bb4",
   "metadata": {},
   "outputs": [
    {
     "name": "stdout",
     "output_type": "stream",
     "text": [
      "None\n"
     ]
    }
   ],
   "source": [
    "print(m1.getLongURL(\"cnhfndet\"))"
   ]
  },
  {
   "cell_type": "code",
   "execution_count": 23,
   "id": "d1eeb266",
   "metadata": {},
   "outputs": [
    {
     "name": "stdout",
     "output_type": "stream",
     "text": [
      "None\n"
     ]
    }
   ],
   "source": [
    "print(m1.getLongURL(\"drds0pdg\"))"
   ]
  },
  {
   "cell_type": "code",
   "execution_count": null,
   "id": "3339f6ba",
   "metadata": {},
   "outputs": [],
   "source": []
  }
 ],
 "metadata": {
  "kernelspec": {
   "display_name": "Python 3 (ipykernel)",
   "language": "python",
   "name": "python3"
  },
  "language_info": {
   "codemirror_mode": {
    "name": "ipython",
    "version": 3
   },
   "file_extension": ".py",
   "mimetype": "text/x-python",
   "name": "python",
   "nbconvert_exporter": "python",
   "pygments_lexer": "ipython3",
   "version": "3.9.7"
  }
 },
 "nbformat": 4,
 "nbformat_minor": 5
}
