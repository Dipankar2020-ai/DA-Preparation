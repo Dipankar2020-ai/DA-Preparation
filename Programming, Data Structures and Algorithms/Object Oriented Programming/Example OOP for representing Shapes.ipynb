{
 "cells": [
  {
   "cell_type": "code",
   "execution_count": 7,
   "id": "cc814994",
   "metadata": {},
   "outputs": [
    {
     "name": "stdout",
     "output_type": "stream",
     "text": [
      "black\n",
      "False\n",
      "12\n",
      "15\n"
     ]
    }
   ],
   "source": [
    "import math\n",
    "class Shape:\n",
    "    def __init__(self,color='black',filled=False):\n",
    "        self.__color=color\n",
    "        self.__filled=filled\n",
    "    def get_color(self):\n",
    "        return self.__color\n",
    "    def set_color(self,color):\n",
    "        self.__color=color\n",
    "    def get_filled(self):\n",
    "        return self.__filled\n",
    "    def set_filled(self,filled):\n",
    "        self.__filled=filled\n",
    "class Rectangle(Shape):\n",
    "    def __init__(self,length,breadth):\n",
    "        super().__init__()\n",
    "        self.__length=length\n",
    "        self.__breadth=breadth\n",
    "    def get_length(self):\n",
    "        return self.__length\n",
    "    def set_length(self,length):\n",
    "        self.__length=length\n",
    "    def get_breadth(self):\n",
    "        return self.__breadth\n",
    "    def set_breadth(self,breadth):\n",
    "        self.__breadth=breadth\n",
    "m1=Rectangle(12,15)\n",
    "print(m1.get_color())\n",
    "print(m1.get_filled())\n",
    "print(m1.get_length())\n",
    "print(m1.get_breadth())\n",
    "        "
   ]
  },
  {
   "cell_type": "code",
   "execution_count": 8,
   "id": "4a89080e",
   "metadata": {},
   "outputs": [
    {
     "name": "stdout",
     "output_type": "stream",
     "text": [
      "blue\n",
      "18\n"
     ]
    }
   ],
   "source": [
    "m1.set_length(18)\n",
    "m1.set_color('blue')\n",
    "print(m1.get_color())\n",
    "print(m1.get_length())"
   ]
  },
  {
   "cell_type": "code",
   "execution_count": 9,
   "id": "795977cd",
   "metadata": {},
   "outputs": [],
   "source": [
    "class Myclass():\n",
    "    pass\n",
    "m=Myclass()\n",
    "\n",
    "    "
   ]
  },
  {
   "cell_type": "code",
   "execution_count": 10,
   "id": "bdab40f9",
   "metadata": {},
   "outputs": [
    {
     "name": "stdout",
     "output_type": "stream",
     "text": [
      "Any string representation of the object of this class that we want\n"
     ]
    }
   ],
   "source": [
    "class Classwithstr():\n",
    "    def __str__(self):\n",
    "        return \"Any string representation of the object of this class that we want\"\n",
    "c1=Classwithstr()\n",
    "print(c1)"
   ]
  }
 ],
 "metadata": {
  "kernelspec": {
   "display_name": "Python 3 (ipykernel)",
   "language": "python",
   "name": "python3"
  },
  "language_info": {
   "codemirror_mode": {
    "name": "ipython",
    "version": 3
   },
   "file_extension": ".py",
   "mimetype": "text/x-python",
   "name": "python",
   "nbconvert_exporter": "python",
   "pygments_lexer": "ipython3",
   "version": "3.9.7"
  }
 },
 "nbformat": 4,
 "nbformat_minor": 5
}
