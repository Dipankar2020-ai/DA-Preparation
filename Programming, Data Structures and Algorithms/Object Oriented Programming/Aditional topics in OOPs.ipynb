{
 "cells": [
  {
   "cell_type": "markdown",
   "id": "ce978b12",
   "metadata": {},
   "source": [
    "# can i write function under __init__()?"
   ]
  },
  {
   "cell_type": "code",
   "execution_count": 12,
   "id": "9e7a92c7",
   "metadata": {},
   "outputs": [
    {
     "ename": "NameError",
     "evalue": "name 'add' is not defined",
     "output_type": "error",
     "traceback": [
      "\u001b[1;31m---------------------------------------------------------------------------\u001b[0m",
      "\u001b[1;31mNameError\u001b[0m                                 Traceback (most recent call last)",
      "Input \u001b[1;32mIn [12]\u001b[0m, in \u001b[0;36m<cell line: 1>\u001b[1;34m()\u001b[0m\n\u001b[1;32m----> 1\u001b[0m \u001b[38;5;28;01mclass\u001b[39;00m \u001b[38;5;21;01mA\u001b[39;00m:\n\u001b[0;32m      2\u001b[0m     \u001b[38;5;28;01mdef\u001b[39;00m \u001b[38;5;21m__init__\u001b[39m(\u001b[38;5;28mself\u001b[39m):\n\u001b[0;32m      3\u001b[0m         \u001b[38;5;28;01mdef\u001b[39;00m \u001b[38;5;21madd\u001b[39m(x):\n",
      "Input \u001b[1;32mIn [12]\u001b[0m, in \u001b[0;36mA\u001b[1;34m()\u001b[0m\n\u001b[0;32m      4\u001b[0m         \u001b[38;5;28;01mreturn\u001b[39;00m x\u001b[38;5;241m+\u001b[39m\u001b[38;5;241m1\u001b[39m\n\u001b[0;32m      5\u001b[0m i\u001b[38;5;241m=\u001b[39m\u001b[38;5;241m10\u001b[39m\n\u001b[1;32m----> 6\u001b[0m ans\u001b[38;5;241m=\u001b[39m\u001b[43madd\u001b[49m(i)\n\u001b[0;32m      7\u001b[0m \u001b[38;5;28mprint\u001b[39m(ans)\n",
      "\u001b[1;31mNameError\u001b[0m: name 'add' is not defined"
     ]
    }
   ],
   "source": [
    "class A:\n",
    "    def __init__(self):\n",
    "        def add(x):\n",
    "            return x+1\n",
    "    i=10\n",
    "    ans=add(i)\n",
    "    print(ans)\n",
    "    \n",
    "a=A()"
   ]
  },
  {
   "cell_type": "code",
   "execution_count": 5,
   "id": "1d63331b",
   "metadata": {},
   "outputs": [],
   "source": [
    "import math"
   ]
  },
  {
   "cell_type": "code",
   "execution_count": 6,
   "id": "fa7e8ed5",
   "metadata": {},
   "outputs": [
    {
     "name": "stdout",
     "output_type": "stream",
     "text": [
      "['__doc__', '__loader__', '__name__', '__package__', '__spec__', 'acos', 'acosh', 'asin', 'asinh', 'atan', 'atan2', 'atanh', 'ceil', 'comb', 'copysign', 'cos', 'cosh', 'degrees', 'dist', 'e', 'erf', 'erfc', 'exp', 'expm1', 'fabs', 'factorial', 'floor', 'fmod', 'frexp', 'fsum', 'gamma', 'gcd', 'hypot', 'inf', 'isclose', 'isfinite', 'isinf', 'isnan', 'isqrt', 'lcm', 'ldexp', 'lgamma', 'log', 'log10', 'log1p', 'log2', 'modf', 'nan', 'nextafter', 'perm', 'pi', 'pow', 'prod', 'radians', 'remainder', 'sin', 'sinh', 'sqrt', 'tan', 'tanh', 'tau', 'trunc', 'ulp']\n"
     ]
    }
   ],
   "source": [
    "print(dir(math))"
   ]
  },
  {
   "cell_type": "code",
   "execution_count": 7,
   "id": "61477ea0",
   "metadata": {},
   "outputs": [
    {
     "name": "stdout",
     "output_type": "stream",
     "text": [
      "['__class__', '__delattr__', '__dict__', '__dir__', '__doc__', '__eq__', '__format__', '__ge__', '__getattribute__', '__gt__', '__hash__', '__init__', '__init_subclass__', '__le__', '__lt__', '__module__', '__ne__', '__new__', '__reduce__', '__reduce_ex__', '__repr__', '__setattr__', '__sizeof__', '__str__', '__subclasshook__', '__weakref__', 'f']\n"
     ]
    }
   ],
   "source": [
    "class B:\n",
    "    def f():\n",
    "        print(\"Hi\")\n",
    "print(dir(B))"
   ]
  },
  {
   "cell_type": "code",
   "execution_count": 8,
   "id": "1bb0c9d4",
   "metadata": {},
   "outputs": [
    {
     "name": "stdout",
     "output_type": "stream",
     "text": [
      "3.141592653589793\n"
     ]
    }
   ],
   "source": [
    "print(math.pi)"
   ]
  },
  {
   "cell_type": "markdown",
   "id": "1475e247",
   "metadata": {},
   "source": [
    "# How do private Methods Works"
   ]
  },
  {
   "cell_type": "code",
   "execution_count": 1,
   "id": "177c3a06",
   "metadata": {},
   "outputs": [
    {
     "name": "stdout",
     "output_type": "stream",
     "text": [
      "17\n"
     ]
    }
   ],
   "source": [
    "class C:\n",
    "    def __pr(self,i):\n",
    "        return 2**i\n",
    "    def pu(self,x):\n",
    "        return self.__pr(x)+1\n",
    "c=C()\n",
    "print(c.pu(4))"
   ]
  },
  {
   "cell_type": "code",
   "execution_count": 2,
   "id": "4dcfd8b5",
   "metadata": {},
   "outputs": [
    {
     "ename": "AttributeError",
     "evalue": "'C' object has no attribute '__pr'",
     "output_type": "error",
     "traceback": [
      "\u001b[1;31m---------------------------------------------------------------------------\u001b[0m",
      "\u001b[1;31mAttributeError\u001b[0m                            Traceback (most recent call last)",
      "Input \u001b[1;32mIn [2]\u001b[0m, in \u001b[0;36m<cell line: 1>\u001b[1;34m()\u001b[0m\n\u001b[1;32m----> 1\u001b[0m \u001b[38;5;28mprint\u001b[39m(\u001b[43mc\u001b[49m\u001b[38;5;241;43m.\u001b[39;49m\u001b[43m__pr\u001b[49m(\u001b[38;5;241m4\u001b[39m))\n",
      "\u001b[1;31mAttributeError\u001b[0m: 'C' object has no attribute '__pr'"
     ]
    }
   ],
   "source": [
    "print(c.__pr(4))"
   ]
  },
  {
   "cell_type": "code",
   "execution_count": 3,
   "id": "85b6bbc7",
   "metadata": {},
   "outputs": [
    {
     "name": "stdout",
     "output_type": "stream",
     "text": [
      "['_C__pr', '__class__', '__delattr__', '__dict__', '__dir__', '__doc__', '__eq__', '__format__', '__ge__', '__getattribute__', '__gt__', '__hash__', '__init__', '__init_subclass__', '__le__', '__lt__', '__module__', '__ne__', '__new__', '__reduce__', '__reduce_ex__', '__repr__', '__setattr__', '__sizeof__', '__str__', '__subclasshook__', '__weakref__', 'pu']\n"
     ]
    }
   ],
   "source": [
    "print(dir(c))"
   ]
  },
  {
   "cell_type": "code",
   "execution_count": 4,
   "id": "191b671d",
   "metadata": {},
   "outputs": [
    {
     "name": "stdout",
     "output_type": "stream",
     "text": [
      "16\n"
     ]
    }
   ],
   "source": [
    "print(c._C__pr(4))"
   ]
  },
  {
   "cell_type": "markdown",
   "id": "49d4bddd",
   "metadata": {},
   "source": [
    "# c++ has public, protected,private"
   ]
  },
  {
   "cell_type": "code",
   "execution_count": 5,
   "id": "61ebc4d8",
   "metadata": {},
   "outputs": [
    {
     "name": "stdout",
     "output_type": "stream",
     "text": [
      "['_C__pr', '__class__', '__delattr__', '__dict__', '__dir__', '__doc__', '__eq__', '__format__', '__ge__', '__getattribute__', '__gt__', '__hash__', '__init__', '__init_subclass__', '__le__', '__lt__', '__module__', '__ne__', '__new__', '__reduce__', '__reduce_ex__', '__repr__', '__setattr__', '__sizeof__', '__str__', '__subclasshook__', '__weakref__', 'pu']\n",
      "\n",
      "\n",
      " ******** \n",
      "\n",
      "\n",
      "\n",
      "['_C__pr', '__class__', '__delattr__', '__dict__', '__dir__', '__doc__', '__eq__', '__format__', '__ge__', '__getattribute__', '__gt__', '__hash__', '__init__', '__init_subclass__', '__le__', '__lt__', '__module__', '__ne__', '__new__', '__reduce__', '__reduce_ex__', '__repr__', '__setattr__', '__sizeof__', '__str__', '__subclasshook__', '__weakref__', 'f1', 'f2', 'pu']\n",
      "17\n"
     ]
    }
   ],
   "source": [
    "class C:\n",
    "    def __pr(self,i):\n",
    "        return 2**i\n",
    "    def pu(self,x):\n",
    "        return self.__pr(x)+1\n",
    "print(dir(c))\n",
    "print(\"\\n\\n ******** \\n\\n\\n\")\n",
    "class D(C):\n",
    "    def f1(self,i):\n",
    "        return self.__pr(i)\n",
    "    def f2(self,i):\n",
    "        return self.pu(i)\n",
    "    \n",
    "d=D()\n",
    "print(dir(d))\n",
    "print(d.f2(4))"
   ]
  },
  {
   "cell_type": "code",
   "execution_count": 6,
   "id": "b99bdf0e",
   "metadata": {},
   "outputs": [
    {
     "ename": "AttributeError",
     "evalue": "'D' object has no attribute '_D__pr'",
     "output_type": "error",
     "traceback": [
      "\u001b[1;31m---------------------------------------------------------------------------\u001b[0m",
      "\u001b[1;31mAttributeError\u001b[0m                            Traceback (most recent call last)",
      "Input \u001b[1;32mIn [6]\u001b[0m, in \u001b[0;36m<cell line: 1>\u001b[1;34m()\u001b[0m\n\u001b[1;32m----> 1\u001b[0m \u001b[38;5;28mprint\u001b[39m(\u001b[43md\u001b[49m\u001b[38;5;241;43m.\u001b[39;49m\u001b[43mf1\u001b[49m\u001b[43m(\u001b[49m\u001b[38;5;241;43m4\u001b[39;49m\u001b[43m)\u001b[49m)\n",
      "Input \u001b[1;32mIn [5]\u001b[0m, in \u001b[0;36mD.f1\u001b[1;34m(self, i)\u001b[0m\n\u001b[0;32m      9\u001b[0m \u001b[38;5;28;01mdef\u001b[39;00m \u001b[38;5;21mf1\u001b[39m(\u001b[38;5;28mself\u001b[39m,i):\n\u001b[1;32m---> 10\u001b[0m     \u001b[38;5;28;01mreturn\u001b[39;00m \u001b[38;5;28;43mself\u001b[39;49m\u001b[38;5;241;43m.\u001b[39;49m\u001b[43m__pr\u001b[49m(i)\n",
      "\u001b[1;31mAttributeError\u001b[0m: 'D' object has no attribute '_D__pr'"
     ]
    }
   ],
   "source": [
    "print(d.f1(4))"
   ]
  },
  {
   "cell_type": "markdown",
   "id": "693b29a9",
   "metadata": {},
   "source": [
    "# Use of protected in Python-single underscore"
   ]
  },
  {
   "cell_type": "code",
   "execution_count": 8,
   "id": "d5e4ca93",
   "metadata": {},
   "outputs": [
    {
     "name": "stdout",
     "output_type": "stream",
     "text": [
      "['_C__pr', '__class__', '__delattr__', '__dict__', '__dir__', '__doc__', '__eq__', '__format__', '__ge__', '__getattribute__', '__gt__', '__hash__', '__init__', '__init_subclass__', '__le__', '__lt__', '__module__', '__ne__', '__new__', '__reduce__', '__reduce_ex__', '__repr__', '__setattr__', '__sizeof__', '__str__', '__subclasshook__', '__weakref__', 'pu']\n",
      "\n",
      "\n",
      "***************\n",
      "\n",
      "\n",
      "['__class__', '__delattr__', '__dict__', '__dir__', '__doc__', '__eq__', '__format__', '__ge__', '__getattribute__', '__gt__', '__hash__', '__init__', '__init_subclass__', '__le__', '__lt__', '__module__', '__ne__', '__new__', '__reduce__', '__reduce_ex__', '__repr__', '__setattr__', '__sizeof__', '__str__', '__subclasshook__', '__weakref__', '_pr', 'f1', 'f2', 'pu']\n",
      "16\n"
     ]
    }
   ],
   "source": [
    "class C:\n",
    "    def _pr(self,i):\n",
    "        return 2**i\n",
    "    def pu(self,x):\n",
    "        return self._pr(x)+1\n",
    "print(dir(c))\n",
    "print(\"\\n\\n***************\\n\\n\")\n",
    "class D(C):\n",
    "    def f1(self,i):\n",
    "        return self._pr(i)\n",
    "    def f2(self,i):\n",
    "        return self.pu(i)\n",
    "    \n",
    "d=D()\n",
    "print(dir(D))\n",
    "print(d.f1(4))"
   ]
  }
 ],
 "metadata": {
  "kernelspec": {
   "display_name": "Python 3 (ipykernel)",
   "language": "python",
   "name": "python3"
  },
  "language_info": {
   "codemirror_mode": {
    "name": "ipython",
    "version": 3
   },
   "file_extension": ".py",
   "mimetype": "text/x-python",
   "name": "python",
   "nbconvert_exporter": "python",
   "pygments_lexer": "ipython3",
   "version": "3.9.12"
  }
 },
 "nbformat": 4,
 "nbformat_minor": 5
}
