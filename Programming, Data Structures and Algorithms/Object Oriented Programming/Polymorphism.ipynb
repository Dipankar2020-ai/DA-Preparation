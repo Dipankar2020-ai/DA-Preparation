{
 "cells": [
  {
   "cell_type": "markdown",
   "id": "3a20ac91",
   "metadata": {},
   "source": [
    "# Class Level Polymorphism"
   ]
  },
  {
   "cell_type": "code",
   "execution_count": 2,
   "id": "34040287",
   "metadata": {},
   "outputs": [
    {
     "name": "stdout",
     "output_type": "stream",
     "text": [
      "function p in A\n",
      "function p in B\n",
      "################\n",
      "function p in A\n",
      "function p in B\n"
     ]
    }
   ],
   "source": [
    "class A:\n",
    "    def p(self):\n",
    "        return \"function p in A\"\n",
    "class B:\n",
    "    def p(self):\n",
    "        return \"function p in B\"\n",
    "a=A()\n",
    "b=B()\n",
    "for i in (a,b):\n",
    "    print(i.p())\n",
    "print(\"################\")\n",
    "x=a\n",
    "print(x.p())\n",
    "x=b\n",
    "print(x.p())"
   ]
  },
  {
   "cell_type": "markdown",
   "id": "e418b5d3",
   "metadata": {},
   "source": [
    "# Polymorphism + Inheritence"
   ]
  },
  {
   "cell_type": "code",
   "execution_count": 3,
   "id": "3972444a",
   "metadata": {},
   "outputs": [
    {
     "name": "stdout",
     "output_type": "stream",
     "text": [
      "{'a': 1, 'b': 2}\n",
      "{1, 2, 3, 4}\n",
      "{1, 2, 3, 4}\n"
     ]
    }
   ],
   "source": [
    "d={'a':1,'b':2}\n",
    "l={1,2,3,4}\n",
    "s={1,2,3,4}\n",
    "for i in (d,l,s):\n",
    "    print(i)"
   ]
  },
  {
   "cell_type": "markdown",
   "id": "aaafadcb",
   "metadata": {},
   "source": [
    "# Aditional topic in OOPS "
   ]
  },
  {
   "cell_type": "code",
   "execution_count": 4,
   "id": "ed9ba5ae",
   "metadata": {},
   "outputs": [],
   "source": [
    "class E:\n",
    "    pass\n",
    "e1=E()\n",
    "e1.name=\"abc\"\n",
    "e1.no=123\n",
    "e2=E()\n",
    "e2.name=\"xyz\"\n",
    "e2.addr=\"abcdefghi\"\n",
    "print(e1.name,e1.no)\n",
    "print()"
   ]
  },
  {
   "cell_type": "code",
   "execution_count": null,
   "id": "35af95cc",
   "metadata": {},
   "outputs": [],
   "source": []
  }
 ],
 "metadata": {
  "kernelspec": {
   "display_name": "Python 3 (ipykernel)",
   "language": "python",
   "name": "python3"
  },
  "language_info": {
   "codemirror_mode": {
    "name": "ipython",
    "version": 3
   },
   "file_extension": ".py",
   "mimetype": "text/x-python",
   "name": "python",
   "nbconvert_exporter": "python",
   "pygments_lexer": "ipython3",
   "version": "3.9.12"
  }
 },
 "nbformat": 4,
 "nbformat_minor": 5
}
