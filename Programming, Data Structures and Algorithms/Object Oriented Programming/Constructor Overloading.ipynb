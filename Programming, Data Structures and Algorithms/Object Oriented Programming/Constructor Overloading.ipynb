{
 "cells": [
  {
   "cell_type": "markdown",
   "id": "c087ddd5",
   "metadata": {},
   "source": [
    "# Constructor Overloading"
   ]
  },
  {
   "cell_type": "code",
   "execution_count": 3,
   "id": "d2eb9a0a",
   "metadata": {},
   "outputs": [
    {
     "ename": "TypeError",
     "evalue": "__init__() missing 1 required positional argument: 'j'",
     "output_type": "error",
     "traceback": [
      "\u001b[1;31m---------------------------------------------------------------------------\u001b[0m",
      "\u001b[1;31mTypeError\u001b[0m                                 Traceback (most recent call last)",
      "Input \u001b[1;32mIn [3]\u001b[0m, in \u001b[0;36m<cell line: 11>\u001b[1;34m()\u001b[0m\n\u001b[0;32m      8\u001b[0m     \u001b[38;5;28;01mdef\u001b[39;00m \u001b[38;5;21m__str__\u001b[39m(\u001b[38;5;28mself\u001b[39m):\n\u001b[0;32m      9\u001b[0m         \u001b[38;5;28;01mreturn\u001b[39;00m \u001b[38;5;124m\"\u001b[39m\u001b[38;5;130;01m\\n\u001b[39;00m\u001b[38;5;124m i=\u001b[39m\u001b[38;5;124m\"\u001b[39m\u001b[38;5;241m+\u001b[39m\u001b[38;5;28mstr\u001b[39m(\u001b[38;5;28mself\u001b[39m\u001b[38;5;241m.\u001b[39mvar1)\u001b[38;5;241m+\u001b[39m\u001b[38;5;124m\"\u001b[39m\u001b[38;5;130;01m\\t\u001b[39;00m\u001b[38;5;124m\"\u001b[39m\u001b[38;5;241m+\u001b[39m\u001b[38;5;124m\"\u001b[39m\u001b[38;5;124mj=\u001b[39m\u001b[38;5;124m\"\u001b[39m\u001b[38;5;241m+\u001b[39m\u001b[38;5;28mstr\u001b[39m(\u001b[38;5;28mself\u001b[39m\u001b[38;5;241m.\u001b[39mvar2)\n\u001b[1;32m---> 11\u001b[0m a1\u001b[38;5;241m=\u001b[39m\u001b[43mA\u001b[49m\u001b[43m(\u001b[49m\u001b[38;5;241;43m10\u001b[39;49m\u001b[43m)\u001b[49m\n\u001b[0;32m     12\u001b[0m \u001b[38;5;28mprint\u001b[39m(a1)\n",
      "\u001b[1;31mTypeError\u001b[0m: __init__() missing 1 required positional argument: 'j'"
     ]
    }
   ],
   "source": [
    "class A:\n",
    "    def __init__(self,i):\n",
    "        self.var1=i\n",
    "        self.var2=0\n",
    "    def __init__(self,i,j):  #Taking later defination\n",
    "        self.var1=i\n",
    "        self.var2=j\n",
    "    def __str__(self):\n",
    "        return \"\\n i=\"+str(self.var1)+\"\\t\"+\"j=\"+str(self.var2)\n",
    "    \n",
    "a1=A(10)\n",
    "print(a1)\n",
    "        "
   ]
  },
  {
   "cell_type": "code",
   "execution_count": 2,
   "id": "e221033b",
   "metadata": {},
   "outputs": [
    {
     "name": "stdout",
     "output_type": "stream",
     "text": [
      "\n",
      " i=10\tj=20\n"
     ]
    }
   ],
   "source": [
    "a2=A(10,20)\n",
    "print(a2)"
   ]
  },
  {
   "cell_type": "markdown",
   "id": "1d46cc1c",
   "metadata": {},
   "source": [
    "# Can we call other functions inside __init__?"
   ]
  },
  {
   "cell_type": "code",
   "execution_count": 4,
   "id": "fc9c1f31",
   "metadata": {},
   "outputs": [
    {
     "ename": "NameError",
     "evalue": "name 'f' is not defined",
     "output_type": "error",
     "traceback": [
      "\u001b[1;31m---------------------------------------------------------------------------\u001b[0m",
      "\u001b[1;31mNameError\u001b[0m                                 Traceback (most recent call last)",
      "Input \u001b[1;32mIn [4]\u001b[0m, in \u001b[0;36m<cell line: 10>\u001b[1;34m()\u001b[0m\n\u001b[0;32m      7\u001b[0m     \u001b[38;5;28;01mdef\u001b[39;00m \u001b[38;5;21m__str__\u001b[39m(\u001b[38;5;28mself\u001b[39m):\n\u001b[0;32m      8\u001b[0m         \u001b[38;5;28;01mreturn\u001b[39;00m \u001b[38;5;124m\"\u001b[39m\u001b[38;5;130;01m\\n\u001b[39;00m\u001b[38;5;124m i=\u001b[39m\u001b[38;5;124m\"\u001b[39m\u001b[38;5;241m+\u001b[39m\u001b[38;5;28mstr\u001b[39m(\u001b[38;5;28mself\u001b[39m\u001b[38;5;241m.\u001b[39mvar1)\u001b[38;5;241m+\u001b[39m\u001b[38;5;124m\"\u001b[39m\u001b[38;5;130;01m\\t\u001b[39;00m\u001b[38;5;124m\"\u001b[39m\u001b[38;5;241m+\u001b[39m\u001b[38;5;124m\"\u001b[39m\u001b[38;5;124mj=\u001b[39m\u001b[38;5;124m\"\u001b[39m\u001b[38;5;241m+\u001b[39m\u001b[38;5;28mstr\u001b[39m(\u001b[38;5;28mself\u001b[39m\u001b[38;5;241m.\u001b[39mvar2)\n\u001b[1;32m---> 10\u001b[0m a1\u001b[38;5;241m=\u001b[39m\u001b[43mA\u001b[49m\u001b[43m(\u001b[49m\u001b[38;5;241;43m10\u001b[39;49m\u001b[43m,\u001b[49m\u001b[38;5;241;43m20\u001b[39;49m\u001b[43m)\u001b[49m\n\u001b[0;32m     11\u001b[0m \u001b[38;5;28mprint\u001b[39m(a1)\n",
      "Input \u001b[1;32mIn [4]\u001b[0m, in \u001b[0;36mA.__init__\u001b[1;34m(self, i, j)\u001b[0m\n\u001b[0;32m      2\u001b[0m \u001b[38;5;28;01mdef\u001b[39;00m \u001b[38;5;21m__init__\u001b[39m(\u001b[38;5;28mself\u001b[39m,i,j):\n\u001b[1;32m----> 3\u001b[0m     \u001b[43mf\u001b[49m(i,j)\n",
      "\u001b[1;31mNameError\u001b[0m: name 'f' is not defined"
     ]
    }
   ],
   "source": [
    "class A:\n",
    "    def __init__(self,i,j):\n",
    "        f(i,j)\n",
    "    def f(self,i,j):\n",
    "        self.var1=i\n",
    "        self.var2=j\n",
    "    def __str__(self):\n",
    "        return \"\\n i=\"+str(self.var1)+\"\\t\"+\"j=\"+str(self.var2)\n",
    "    \n",
    "a1=A(10,20)\n",
    "print(a1)\n",
    "        "
   ]
  },
  {
   "cell_type": "markdown",
   "id": "fb8a5cde",
   "metadata": {},
   "source": [
    "# It will work using self"
   ]
  },
  {
   "cell_type": "code",
   "execution_count": 5,
   "id": "0865e3a9",
   "metadata": {},
   "outputs": [
    {
     "name": "stdout",
     "output_type": "stream",
     "text": [
      "\n",
      " i=10\tj=20\n"
     ]
    }
   ],
   "source": [
    "class A:\n",
    "    def __init__(self,i,j):\n",
    "        \n",
    "        self.f(i,j)\n",
    "    def f(self,i,j):\n",
    "        self.var1=i\n",
    "        self.var2=j\n",
    "    def __str__(self):\n",
    "        return \"\\n i=\"+str(self.var1)+\"\\t\"+\"j=\"+str(self.var2)\n",
    "    \n",
    "a1=A(10,20)\n",
    "print(a1)"
   ]
  }
 ],
 "metadata": {
  "kernelspec": {
   "display_name": "Python 3 (ipykernel)",
   "language": "python",
   "name": "python3"
  },
  "language_info": {
   "codemirror_mode": {
    "name": "ipython",
    "version": 3
   },
   "file_extension": ".py",
   "mimetype": "text/x-python",
   "name": "python",
   "nbconvert_exporter": "python",
   "pygments_lexer": "ipython3",
   "version": "3.9.12"
  }
 },
 "nbformat": 4,
 "nbformat_minor": 5
}
