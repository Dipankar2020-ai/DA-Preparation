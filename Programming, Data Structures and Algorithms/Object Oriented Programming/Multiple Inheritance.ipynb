{
 "cells": [
  {
   "cell_type": "markdown",
   "id": "ee270f85",
   "metadata": {},
   "source": [
    "# Multiple Inheritance"
   ]
  },
  {
   "cell_type": "code",
   "execution_count": 4,
   "id": "93dae5ec",
   "metadata": {},
   "outputs": [
    {
     "name": "stdout",
     "output_type": "stream",
     "text": [
      "explore  A is called\n",
      "search in B called\n",
      "discover() in C called\n",
      "test() in D called\n"
     ]
    }
   ],
   "source": [
    "class A:\n",
    "    def explore(self):\n",
    "        print(\"explore  A is called\")\n",
    "class B:\n",
    "    def search(self):\n",
    "        print(\"search in B called\")\n",
    "    def explore(self):\n",
    "        print(\"explore  B is called\")\n",
    "class C:\n",
    "    def discover(self):\n",
    "        print(\"discover() in C called\")\n",
    "class D(A,B,C):\n",
    "    def test(self):\n",
    "        print(\"test() in D called\")\n",
    "        \n",
    "d_obj=D()\n",
    "d_obj.explore()\n",
    "d_obj.search()\n",
    "d_obj.discover()\n",
    "d_obj.test()\n",
    "    "
   ]
  },
  {
   "cell_type": "markdown",
   "id": "cda9cb7b",
   "metadata": {},
   "source": [
    "# Diamond Inheritance:Deadly Diamond"
   ]
  },
  {
   "cell_type": "code",
   "execution_count": null,
   "id": "2fda696f",
   "metadata": {},
   "outputs": [],
   "source": [
    "class A:\n",
    "    def explore(self):\n",
    "        print(\"explore in A called\")\n",
    "    class B(A):\n",
    "        def explore(self):\n",
    "            print(\"explore in B called\")\n",
    "    class C(A):\n",
    "        def explore(self):\n",
    "            print(\"explore in C called\")\n",
    "            \n",
    "    class D(B,C):\n",
    "        pass\n",
    "\n",
    "d_obj=D()\n",
    "        "
   ]
  }
 ],
 "metadata": {
  "kernelspec": {
   "display_name": "Python 3 (ipykernel)",
   "language": "python",
   "name": "python3"
  },
  "language_info": {
   "codemirror_mode": {
    "name": "ipython",
    "version": 3
   },
   "file_extension": ".py",
   "mimetype": "text/x-python",
   "name": "python",
   "nbconvert_exporter": "python",
   "pygments_lexer": "ipython3",
   "version": "3.9.7"
  }
 },
 "nbformat": 4,
 "nbformat_minor": 5
}
