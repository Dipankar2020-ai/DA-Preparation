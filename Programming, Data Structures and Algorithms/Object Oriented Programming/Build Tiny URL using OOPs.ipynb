{
 "cells": [
  {
   "cell_type": "code",
   "execution_count": 5,
   "id": "386ef492",
   "metadata": {},
   "outputs": [
    {
     "name": "stdout",
     "output_type": "stream",
     "text": [
      "<__main__.ShortURL object at 0x000001E110E5F670>\n"
     ]
    }
   ],
   "source": [
    "import string\n",
    "import random\n",
    "class ShortURL:\n",
    "    def __init__(self):\n",
    "        self.d=dict()\n",
    "    def getShortURL(self,longURL):\n",
    "        l=random.randint(6,10)\n",
    "        chars=string.ascii_lowercase\n",
    "        ShortURL=''.join(random.choice(chars) for i in range(l))\n",
    "        if ShortURL in self.d:\n",
    "            return getShortURL(longURL)\n",
    "        else:\n",
    "            self.d[ShortURL]=longURL\n",
    "            \n",
    "        r=\"https://www.shortURL.com/\"+ShortURL\n",
    "        return r\n",
    "    def getLongURL(self,ShortURL):\n",
    "        k=ShortURL[25:]\n",
    "        if k in self.d:\n",
    "            return self.d[k]\n",
    "        else:\n",
    "            return None\n",
    "        \n",
    "s=ShortURL()\n",
    "print(s)"
   ]
  },
  {
   "cell_type": "code",
   "execution_count": 6,
   "id": "f0e6f3ff",
   "metadata": {},
   "outputs": [
    {
     "name": "stdout",
     "output_type": "stream",
     "text": [
      "https://www.shortURL.com/apcpbzkgmj\n"
     ]
    }
   ],
   "source": [
    "print(s.getShortURL(\"appliedaicourse.com\"))\n"
   ]
  },
  {
   "cell_type": "code",
   "execution_count": 7,
   "id": "06bc79cc",
   "metadata": {},
   "outputs": [
    {
     "name": "stdout",
     "output_type": "stream",
     "text": [
      "appliedaicourse.com\n"
     ]
    }
   ],
   "source": [
    "print(s.getLongURL(\"https://www.shortURL.com/apcpbzkgmj\"))"
   ]
  }
 ],
 "metadata": {
  "kernelspec": {
   "display_name": "Python 3 (ipykernel)",
   "language": "python",
   "name": "python3"
  },
  "language_info": {
   "codemirror_mode": {
    "name": "ipython",
    "version": 3
   },
   "file_extension": ".py",
   "mimetype": "text/x-python",
   "name": "python",
   "nbconvert_exporter": "python",
   "pygments_lexer": "ipython3",
   "version": "3.9.7"
  }
 },
 "nbformat": 4,
 "nbformat_minor": 5
}
